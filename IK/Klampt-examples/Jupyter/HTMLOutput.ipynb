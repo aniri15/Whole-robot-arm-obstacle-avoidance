{
 "cells": [
  {
   "cell_type": "code",
   "execution_count": null,
   "metadata": {},
   "outputs": [],
   "source": [
    "from klampt import vis\n",
    "from klampt import *\n",
    "from klampt.model import trajectory\n",
    "from IPython.display import display,HTML\n",
    "\n",
    "world = WorldModel()\n",
    "world.readFile(\"../data/athlete_plane.xml\")\n",
    "robot = world.robot(0)\n",
    "q0 = robot.getConfig()\n",
    "q1 = [v for v in q0]\n",
    "q1[2] += 1\n",
    "q2 = [v for v in q1]\n",
    "q2[0] += 1\n",
    "q3 = [v for v in q2]\n",
    "q3[2] -= 1\n",
    "traj = trajectory.RobotTrajectory(robot,[0,1,2,3],[q0,q1,q2,q3])"
   ]
  },
  {
   "cell_type": "code",
   "execution_count": null,
   "metadata": {},
   "outputs": [],
   "source": [
    "vis.init(\"HTML\")\n",
    "vis.clear()  #just in case you run this twice, it'll output the same thing\n",
    "vis.add(\"world\",world)\n",
    "vis.animate((\"world\",robot.getName()),traj)\n",
    "dt = 1.0/30.0\n",
    "for i in range(int(traj.times[-1]/dt)):\n",
    "    if i >= 10:\n",
    "        vis.add('ball',[1+(i-10)*dt,0,1])\n",
    "    if i==15:\n",
    "        vis.setColor('ball',0,1,0)\n",
    "    vis.stepAnimation(dt)\n",
    "#display(HTML(str(vis.nativeWindow())))\n",
    "#display(HTML(vis.nativeWindow().iframe(800,400)))\n",
    "#display(HTML(vis.nativeWindow().page()))\n",
    "vis.show()"
   ]
  },
  {
   "cell_type": "code",
   "execution_count": null,
   "metadata": {},
   "outputs": [],
   "source": [
    "#Or, if you just want to see an object or geometry, you can use the vis.debug one-liner\n",
    "vis.init(\"HTML\")\n",
    "vis.debug(\"world\",world)"
   ]
  },
  {
   "cell_type": "code",
   "execution_count": null,
   "metadata": {},
   "outputs": [],
   "source": [
    "#You can also show trajectories using vis.debug\n",
    "vis.init(\"HTML\")\n",
    "vis.debug(\"world\",world,\"ghost\",world.robot(0).getConfig(),{'color':(0,1,0,0.5),'animation':traj})"
   ]
  },
  {
   "cell_type": "code",
   "execution_count": null,
   "metadata": {},
   "outputs": [],
   "source": [
    "#call this to output a standalone HTML page\n",
    "f = open('vis_html_page.html','w')\n",
    "f.write(str(vis.nativeWindow().page()))\n",
    "f.close()"
   ]
  },
  {
   "cell_type": "code",
   "execution_count": null,
   "metadata": {
    "scrolled": false
   },
   "outputs": [],
   "source": [
    "#if you want to mix HTML and IPython output, call vis.kill() before vis.init(\"IPython\")\n",
    "vis.kill()\n",
    "vis.init(\"IPython\")\n",
    "vis.add(\"world\",world)\n",
    "vis.add(\"pt\",[0,0,2])\n",
    "vis.show()"
   ]
  },
  {
   "cell_type": "code",
   "execution_count": null,
   "metadata": {},
   "outputs": [],
   "source": [
    "\n",
    "vis.init(\"IPython\")\n",
    "vis.debug(\"world\",world,\"ghost\",world.robot(0).getConfig(),{'color':(0,1,0,0.5),'animation':traj})"
   ]
  },
  {
   "cell_type": "code",
   "execution_count": null,
   "metadata": {},
   "outputs": [],
   "source": []
  },
  {
   "cell_type": "code",
   "execution_count": null,
   "metadata": {},
   "outputs": [],
   "source": []
  }
 ],
 "metadata": {
  "kernelspec": {
   "display_name": "Python 3",
   "language": "python",
   "name": "python3"
  },
  "language_info": {
   "codemirror_mode": {
    "name": "ipython",
    "version": 3
   },
   "file_extension": ".py",
   "mimetype": "text/x-python",
   "name": "python",
   "nbconvert_exporter": "python",
   "pygments_lexer": "ipython3",
   "version": "3.5.2"
  },
  "latex_envs": {
   "LaTeX_envs_menu_present": true,
   "autoclose": false,
   "autocomplete": true,
   "bibliofile": "biblio.bib",
   "cite_by": "apalike",
   "current_citInitial": 1,
   "eqLabelWithNumbers": true,
   "eqNumInitial": 1,
   "hotkeys": {
    "equation": "Ctrl-E",
    "itemize": "Ctrl-I"
   },
   "labels_anchors": false,
   "latex_user_defs": false,
   "report_style_numbering": false,
   "user_envs_cfg": false
  },
  "toc": {
   "base_numbering": 1,
   "nav_menu": {},
   "number_sections": true,
   "sideBar": true,
   "skip_h1_title": false,
   "title_cell": "Table of Contents",
   "title_sidebar": "Contents",
   "toc_cell": false,
   "toc_position": {},
   "toc_section_display": true,
   "toc_window_display": false
  }
 },
 "nbformat": 4,
 "nbformat_minor": 2
}
