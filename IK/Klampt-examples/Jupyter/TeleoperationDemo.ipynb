{
 "cells": [
  {
   "cell_type": "code",
   "execution_count": null,
   "metadata": {
    "scrolled": false
   },
   "outputs": [],
   "source": [
    "from klampt import vis\n",
    "from klampt import WorldModel,Simulator\n",
    "from klampt.model import config\n",
    "\n",
    "w = WorldModel()\n",
    "w.readFile(\"../data/tx90cuptable.xml\")\n",
    "\n",
    "vis.add(\"world\",w)\n",
    "vis.add(\"ghost\",w.robot(0).getConfig(),color=(0,1,0,0.5))\n",
    "vis.edit(\"ghost\")\n",
    "\n",
    "sim = Simulator(w)\n",
    "def setup():\n",
    "    sim.reset()\n",
    "    sim.updateWorld()\n",
    "def callback():\n",
    "    qdes = vis.getItemConfig(\"ghost\")\n",
    "    sim.controller(0).setPIDCommand(qdes,[0]*w.robot(0).numLinks())\n",
    "    sim.simulate(0.01)\n",
    "    sim.updateWorld()\n",
    "vis.loop(setup=setup,callback=callback)"
   ]
  },
  {
   "cell_type": "code",
   "execution_count": null,
   "metadata": {},
   "outputs": [],
   "source": []
  }
 ],
 "metadata": {
  "kernelspec": {
   "display_name": "Python 3.5.2 64-bit",
   "language": "python",
   "name": "python35264bit6d7220a59801483b8e9b5c82d7474dea"
  },
  "language_info": {
   "codemirror_mode": {
    "name": "ipython",
    "version": 3
   },
   "file_extension": ".py",
   "mimetype": "text/x-python",
   "name": "python",
   "nbconvert_exporter": "python",
   "pygments_lexer": "ipython3",
   "version": "3.5.2"
  },
  "latex_envs": {
   "LaTeX_envs_menu_present": true,
   "autoclose": false,
   "autocomplete": false,
   "bibliofile": "biblio.bib",
   "cite_by": "apalike",
   "current_citInitial": 1,
   "eqLabelWithNumbers": true,
   "eqNumInitial": 1,
   "hotkeys": {
    "equation": "Ctrl-E",
    "itemize": "Ctrl-I"
   },
   "labels_anchors": false,
   "latex_user_defs": false,
   "report_style_numbering": false,
   "user_envs_cfg": false
  },
  "toc": {
   "base_numbering": 1,
   "nav_menu": {},
   "number_sections": true,
   "sideBar": true,
   "skip_h1_title": false,
   "title_cell": "Table of Contents",
   "title_sidebar": "Contents",
   "toc_cell": false,
   "toc_position": {},
   "toc_section_display": true,
   "toc_window_display": false
  }
 },
 "nbformat": 4,
 "nbformat_minor": 2
}
