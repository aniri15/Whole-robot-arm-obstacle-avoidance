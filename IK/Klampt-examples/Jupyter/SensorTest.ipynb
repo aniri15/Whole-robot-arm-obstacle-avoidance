{
 "cells": [
  {
   "cell_type": "code",
   "execution_count": null,
   "metadata": {},
   "outputs": [],
   "source": [
    "%load_ext wurlitzer\n",
    "#^^^ the wurlitzer extension is used to capture C/C++ output to be displayed in the notebook\n",
    "#^^^ this is very useful for debugging, but it doesn't work on windows\n"
   ]
  },
  {
   "cell_type": "code",
   "execution_count": null,
   "metadata": {},
   "outputs": [],
   "source": [
    "#Python 2/3 compatibility\n",
    "from __future__ import print_function,division\n",
    "\n",
    "import time\n",
    "from klampt import *\n",
    "from klampt.math import vectorops,so3,se3\n",
    "from klampt import vis\n",
    "from klampt.vis.ipython import EditConfig,EditPoint,EditTransform\n",
    "\n",
    "world = WorldModel()\n",
    "world.loadFile(\"../data/simulation_test_worlds/sensortest.xml\")\n",
    "vis.add(\"world\",world)\n",
    "\n",
    "robot = world.robot(0)\n",
    "sim = Simulator(world)\n",
    "cam = sim.controller(0).sensor('rgbd_camera')\n",
    "\n",
    "vis.show()\n",
    "\n",
    "#Controls:\n",
    "#left mouse click to rotate the view\n",
    "#right click or ctrl+click to pan the view\n",
    "#mouse wheel or shift+click to zoom the view"
   ]
  },
  {
   "cell_type": "code",
   "execution_count": null,
   "metadata": {},
   "outputs": [],
   "source": [
    "vis.edit((\"world\",robot.getName()))"
   ]
  },
  {
   "cell_type": "code",
   "execution_count": null,
   "metadata": {},
   "outputs": [],
   "source": [
    "#this call renders the scene... since we are in Jupyter notebook this falls back to slow software rendering\n",
    "cam.kinematicSimulate(world,0.01)\n",
    "\n",
    "#this converts the sensed measurements to Numpy arrays\n",
    "from klampt.model import sensing\n",
    "rgb,depth = sensing.camera_to_images(cam)"
   ]
  },
  {
   "cell_type": "code",
   "execution_count": null,
   "metadata": {},
   "outputs": [],
   "source": [
    "%matplotlib inline\n",
    "from matplotlib import pyplot as plt\n",
    "fig,axs = plt.subplots(1,2,figsize=(14,4))\n",
    "axs[0].imshow(rgb)\n",
    "axs[1].imshow(depth)\n",
    "plt.show()"
   ]
  },
  {
   "cell_type": "markdown",
   "metadata": {},
   "source": [
    "Hmm... nothing was showing up... let's try to debug where the sensor is located!"
   ]
  },
  {
   "cell_type": "code",
   "execution_count": null,
   "metadata": {},
   "outputs": [],
   "source": [
    "xform = sensing.get_sensor_xform(cam,robot)\n",
    "vis.add(\"cam_xform\",xform)"
   ]
  },
  {
   "cell_type": "markdown",
   "metadata": {},
   "source": [
    "Scroll back up to the visualization window... Aha, the camera is pointing upright!  Let's edit the robot configuration so that the end effector is pointing toward the ball.  On the sliders above, choose Link 3 and set the joint position to -1.5."
   ]
  },
  {
   "cell_type": "markdown",
   "metadata": {},
   "source": [
    "Now, re-run the cell with cam.kinematicSimulate(), and re-run the cells generating matplotlib windows. You should now see the ball! Try moving the link around some more, and re-generate the images."
   ]
  },
  {
   "cell_type": "markdown",
   "metadata": {},
   "source": [
    "# Hardware accelerated rendering"
   ]
  },
  {
   "cell_type": "markdown",
   "metadata": {},
   "source": [
    "Software emulation is fine for small images, but let's see what happens when the sensor is larger:"
   ]
  },
  {
   "cell_type": "code",
   "execution_count": null,
   "metadata": {},
   "outputs": [],
   "source": [
    "settings = cam.settings()\n",
    "for k in settings:\n",
    "    try:\n",
    "        print(k,\":\",cam.getSetting(k))\n",
    "    except Exception:\n",
    "        pass"
   ]
  },
  {
   "cell_type": "code",
   "execution_count": null,
   "metadata": {},
   "outputs": [],
   "source": [
    "cam.setSetting('xres',str(640))\n",
    "cam.setSetting('yres',str(480))\n",
    "import time\n",
    "t0 = time.time()\n",
    "cam.kinematicSimulate(world,0.01)\n",
    "t1 = time.time()\n",
    "print(\"Rendered 640 x 480 image in time\",t1-t0)"
   ]
  },
  {
   "cell_type": "markdown",
   "metadata": {},
   "source": [
    "Hmm... this is much too slow. Let's do a hack to set up hardware rendering.  Note that you will need to do this on a local machine, it won't work in Colab or Jupyterhub.\n",
    "\n",
    "Restart the kernel, then **run the below cell first**.  Then, run the cell that loads the world, and then run the code above, which reconfigures the sensor to a 640x480 image.  The first time the sensor is simulated, it might take a little more time as the data structures on your GPU are set up for the first time.  But afterwards, rendering should be quite fast (tens of milliseconds)."
   ]
  },
  {
   "cell_type": "code",
   "execution_count": null,
   "metadata": {},
   "outputs": [],
   "source": [
    "from OpenGL.GLUT import *\n",
    "from OpenGL.GL import *\n",
    "glutInit ([])\n",
    "glutInitDisplayMode (GLUT_RGB | GLUT_DOUBLE | GLUT_DEPTH | GLUT_MULTISAMPLE)\n",
    "glutInitWindowSize (1, 1);\n",
    "windowID = glutCreateWindow (\"test\")\n",
    "\n",
    "# Default background color\n",
    "glClearColor(0.8,0.8,0.9,0)\n",
    "# Default light source\n",
    "glLightfv(GL_LIGHT0,GL_POSITION,[0,-1,2,0])\n",
    "glLightfv(GL_LIGHT0,GL_DIFFUSE,[1,1,1,1])\n",
    "glLightfv(GL_LIGHT0,GL_SPECULAR,[1,1,1,1])\n",
    "glEnable(GL_LIGHT0)\n",
    "\n",
    "glLightfv(GL_LIGHT1,GL_POSITION,[-1,2,1,0])\n",
    "glLightfv(GL_LIGHT1,GL_DIFFUSE,[0.5,0.5,0.5,1])\n",
    "glLightfv(GL_LIGHT1,GL_SPECULAR,[0.5,0.5,0.5,1])\n",
    "glEnable(GL_LIGHT1)\n"
   ]
  },
  {
   "cell_type": "code",
   "execution_count": null,
   "metadata": {},
   "outputs": [],
   "source": []
  },
  {
   "cell_type": "code",
   "execution_count": null,
   "metadata": {},
   "outputs": [],
   "source": []
  }
 ],
 "metadata": {
  "kernelspec": {
   "display_name": "Python 3.5.2 64-bit",
   "language": "python",
   "name": "python35264bit6d7220a59801483b8e9b5c82d7474dea"
  },
  "language_info": {
   "codemirror_mode": {
    "name": "ipython",
    "version": 3
   },
   "file_extension": ".py",
   "mimetype": "text/x-python",
   "name": "python",
   "nbconvert_exporter": "python",
   "pygments_lexer": "ipython3",
   "version": "3.5.2"
  },
  "latex_envs": {
   "LaTeX_envs_menu_present": true,
   "autoclose": false,
   "autocomplete": false,
   "bibliofile": "biblio.bib",
   "cite_by": "apalike",
   "current_citInitial": 1,
   "eqLabelWithNumbers": true,
   "eqNumInitial": 1,
   "hotkeys": {
    "equation": "Ctrl-E",
    "itemize": "Ctrl-I"
   },
   "labels_anchors": false,
   "latex_user_defs": false,
   "report_style_numbering": false,
   "user_envs_cfg": false
  },
  "toc": {
   "base_numbering": 1,
   "nav_menu": {},
   "number_sections": true,
   "sideBar": true,
   "skip_h1_title": false,
   "title_cell": "Table of Contents",
   "title_sidebar": "Contents",
   "toc_cell": false,
   "toc_position": {},
   "toc_section_display": true,
   "toc_window_display": false
  }
 },
 "nbformat": 4,
 "nbformat_minor": 2
}
