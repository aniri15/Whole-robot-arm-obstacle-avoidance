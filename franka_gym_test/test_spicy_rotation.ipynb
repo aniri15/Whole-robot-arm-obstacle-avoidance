{
 "cells": [
  {
   "cell_type": "code",
   "execution_count": 2,
   "metadata": {},
   "outputs": [],
   "source": [
    "from scipy.spatial.transform import Rotation as R\n",
    "import numpy as np"
   ]
  },
  {
   "cell_type": "code",
   "execution_count": 3,
   "metadata": {},
   "outputs": [],
   "source": [
    "def transform_degree_to_quat(degree, direction):\n",
    "        \"\"\"Next try is to calculate the values according to the tutorials formula:\n",
    "        Form:\n",
    "        quat = [x, y, z, w]\n",
    "        degree = [x_degree, y_degree, z_degree]\n",
    "        direction = [x_dir, y_dir, z_dir]\n",
    "        Example: rotate 45 degrees around x, y, z axis(direction: -x, -y, z)\n",
    "        x = RotationAxis.x * sin(RotationAngle / 2) => -1 * sin( (1/4 * pi) / 2 ) = -0,382\n",
    "        y = RotationAxis.y * sin(RotationAngle / 2) => -1 * sin( (1/4 * pi) / 2 ) = -0,382\n",
    "        z = RotationAxis.z * sin(RotationAngle / 2) => 1 * sin( (1/4 * pi) / 2 ) = 0,382\n",
    "        w = cos( (1/4 * pi) / 2) = 0,923\"\"\"\n",
    "        quat = np.zeros(4)\n",
    "        # transform degree to radian\n",
    "        radian = np.radians(degree)\n",
    "        # calculate the values\n",
    "        quat[0] = direction[0] * np.sin(radian[0] / 2)\n",
    "        quat[1] = direction[1] * np.sin(radian[1] / 2)\n",
    "        quat[2] = direction[2] * np.sin(radian[2] / 2)\n",
    "        quat[3] = np.cos(radian[0] / 2)\n",
    "        return quat"
   ]
  },
  {
   "cell_type": "code",
   "execution_count": 4,
   "metadata": {},
   "outputs": [],
   "source": [
    "def transform_quat_to_degree(quat):\n",
    "        \"\"\"Transform the quaternion to degree\n",
    "        Form:\n",
    "        quat = [x, y, z, w]\n",
    "        degree = [x_degree, y_degree, z_degree]\n",
    "        direction = [x_dir, y_dir, z_dir]\n",
    "        \"\"\"\n",
    "        degree = np.zeros(3)\n",
    "        # calculate the values\n",
    "        degree[0] = np.degrees(np.arctan2(2 * (quat[3] * quat[0] + quat[1] * quat[2]), 1 - 2 * (quat[0] ** 2 + quat[1] ** 2)))\n",
    "        degree[1] = np.degrees(np.arcsin(2 * (quat[3] * quat[1] - quat[2] * quat[0])))\n",
    "        degree[2] = np.degrees(np.arctan2(2 * (quat[3] * quat[2] + quat[0] * quat[1]), 1 - 2 * (quat[1] ** 2 + quat[2] ** 2)))\n",
    "        return degree"
   ]
  },
  {
   "cell_type": "code",
   "execution_count": 12,
   "metadata": {},
   "outputs": [
    {
     "name": "stdout",
     "output_type": "stream",
     "text": [
      "[90.  0.  0.]\n",
      "(3,)\n",
      "[0.70710678 0.         0.         0.70710678]\n",
      "[0.70710678 0.         0.         0.70710678]\n",
      "[90.  0.  0.]\n",
      "[-9.98416233  0.          0.        ]\n",
      "[0.8446232  0.19134172 0.46193977 0.19134172]\n",
      "[45. 45. 45.]\n"
     ]
    }
   ],
   "source": [
    "r1 = R.from_rotvec([0, 0, 0])\n",
    "#r = r1.from_rotvec([0, 0, np.pi/2])\n",
    "#r = r1.from_rotvec([0, np.pi/2, 0])\n",
    "r = r1.from_rotvec([np.pi/2,0, 0])\n",
    "#r = r.from_rotvec([0, np.pi/5, 0])\n",
    "#r = r1.from_rotvec([0, np.pi/6, 0])\n",
    "print(r.as_euler('xyz', degrees=True))\n",
    "print(r.as_euler('xyz', degrees=True).shape)\n",
    "print(r.as_quat())\n",
    "quat = transform_degree_to_quat(r.as_euler('xyz', degrees=True), [1, 1, 1])\n",
    "print(quat)\n",
    "degree = transform_quat_to_degree(quat)\n",
    "print(degree)\n",
    "\n",
    "r = r1.from_quat([-0.087 ,0 ,0, 0.996])\n",
    "degree = r.as_euler('xyz', degrees=True)\n",
    "print(degree)\n",
    "\n",
    "r = r1.from_euler('xyz', [45, 45, 45], degrees=True)\n",
    "print(r.as_quat(scalar_first=True))\n",
    "print(r.as_euler('xyz', degrees=True))\n",
    "\n"
   ]
  },
  {
   "cell_type": "code",
   "execution_count": 6,
   "metadata": {},
   "outputs": [
    {
     "name": "stdout",
     "output_type": "stream",
     "text": [
      "[88. 45. 30.]\n",
      "[ 0.54866495  0.43200456 -0.08476935  0.71074116]\n",
      "[0.69465837 0.38268343 0.25881905 0.7193398 ]\n",
      "[88. 45. 30.]\n"
     ]
    }
   ],
   "source": [
    "# initial rotation as 0, 0, 0\n",
    "r = r1.from_euler('xyz', [88, 45, 30], degrees=True)\n",
    "print(r.as_euler('xyz', degrees=True))\n",
    "print(r.as_quat())\n",
    "quat = transform_degree_to_quat(r.as_euler('xyz', degrees=True), [1, 1, 1])\n",
    "print(quat)\n",
    "degree = transform_quat_to_degree(r.as_quat())\n",
    "print(degree)"
   ]
  },
  {
   "cell_type": "code",
   "execution_count": 7,
   "metadata": {},
   "outputs": [
    {
     "name": "stdout",
     "output_type": "stream",
     "text": [
      "[[90. 45. 30.]\n",
      " [35. 45. 90.]]\n",
      "[[ 0.56098553  0.43045933 -0.09229596  0.70105738]\n",
      " [-0.06162842  0.45451948  0.54167522  0.70441603]]\n"
     ]
    },
    {
     "ename": "ValueError",
     "evalue": "setting an array element with a sequence.",
     "output_type": "error",
     "traceback": [
      "\u001b[0;31m---------------------------------------------------------------------------\u001b[0m",
      "\u001b[0;31mTypeError\u001b[0m                                 Traceback (most recent call last)",
      "\u001b[0;31mTypeError\u001b[0m: only length-1 arrays can be converted to Python scalars",
      "\nThe above exception was the direct cause of the following exception:\n",
      "\u001b[0;31mValueError\u001b[0m                                Traceback (most recent call last)",
      "Cell \u001b[0;32mIn[7], line 4\u001b[0m\n\u001b[1;32m      2\u001b[0m \u001b[38;5;28mprint\u001b[39m(r\u001b[38;5;241m.\u001b[39mas_euler(\u001b[38;5;124m'\u001b[39m\u001b[38;5;124mxyz\u001b[39m\u001b[38;5;124m'\u001b[39m, degrees\u001b[38;5;241m=\u001b[39m\u001b[38;5;28;01mTrue\u001b[39;00m))\n\u001b[1;32m      3\u001b[0m \u001b[38;5;28mprint\u001b[39m(r\u001b[38;5;241m.\u001b[39mas_quat())\n\u001b[0;32m----> 4\u001b[0m quat \u001b[38;5;241m=\u001b[39m \u001b[43mtransform_degree_to_quat\u001b[49m\u001b[43m(\u001b[49m\u001b[43mr\u001b[49m\u001b[38;5;241;43m.\u001b[39;49m\u001b[43mas_euler\u001b[49m\u001b[43m(\u001b[49m\u001b[38;5;124;43m'\u001b[39;49m\u001b[38;5;124;43mxyz\u001b[39;49m\u001b[38;5;124;43m'\u001b[39;49m\u001b[43m,\u001b[49m\u001b[43m \u001b[49m\u001b[43mdegrees\u001b[49m\u001b[38;5;241;43m=\u001b[39;49m\u001b[38;5;28;43;01mTrue\u001b[39;49;00m\u001b[43m)\u001b[49m\u001b[43m,\u001b[49m\u001b[43m \u001b[49m\u001b[43m[\u001b[49m\u001b[38;5;241;43m1\u001b[39;49m\u001b[43m,\u001b[49m\u001b[43m \u001b[49m\u001b[38;5;241;43m1\u001b[39;49m\u001b[43m,\u001b[49m\u001b[43m \u001b[49m\u001b[38;5;241;43m1\u001b[39;49m\u001b[43m]\u001b[49m\u001b[43m)\u001b[49m\n\u001b[1;32m      5\u001b[0m \u001b[38;5;28mprint\u001b[39m(quat)\n\u001b[1;32m      6\u001b[0m degree \u001b[38;5;241m=\u001b[39m transform_quat_to_degree(quat)\n",
      "Cell \u001b[0;32mIn[3], line 16\u001b[0m, in \u001b[0;36mtransform_degree_to_quat\u001b[0;34m(degree, direction)\u001b[0m\n\u001b[1;32m     14\u001b[0m radian \u001b[38;5;241m=\u001b[39m np\u001b[38;5;241m.\u001b[39mradians(degree)\n\u001b[1;32m     15\u001b[0m \u001b[38;5;66;03m# calculate the values\u001b[39;00m\n\u001b[0;32m---> 16\u001b[0m \u001b[43mquat\u001b[49m\u001b[43m[\u001b[49m\u001b[38;5;241;43m0\u001b[39;49m\u001b[43m]\u001b[49m \u001b[38;5;241m=\u001b[39m direction[\u001b[38;5;241m0\u001b[39m] \u001b[38;5;241m*\u001b[39m np\u001b[38;5;241m.\u001b[39msin(radian[\u001b[38;5;241m0\u001b[39m] \u001b[38;5;241m/\u001b[39m \u001b[38;5;241m2\u001b[39m)\n\u001b[1;32m     17\u001b[0m quat[\u001b[38;5;241m1\u001b[39m] \u001b[38;5;241m=\u001b[39m direction[\u001b[38;5;241m1\u001b[39m] \u001b[38;5;241m*\u001b[39m np\u001b[38;5;241m.\u001b[39msin(radian[\u001b[38;5;241m1\u001b[39m] \u001b[38;5;241m/\u001b[39m \u001b[38;5;241m2\u001b[39m)\n\u001b[1;32m     18\u001b[0m quat[\u001b[38;5;241m2\u001b[39m] \u001b[38;5;241m=\u001b[39m direction[\u001b[38;5;241m2\u001b[39m] \u001b[38;5;241m*\u001b[39m np\u001b[38;5;241m.\u001b[39msin(radian[\u001b[38;5;241m2\u001b[39m] \u001b[38;5;241m/\u001b[39m \u001b[38;5;241m2\u001b[39m)\n",
      "\u001b[0;31mValueError\u001b[0m: setting an array element with a sequence."
     ]
    }
   ],
   "source": [
    "r = r1.from_euler('xyz', [[90, 45, 30], [35, 45, 90]], degrees=True)\n",
    "print(r.as_euler('xyz', degrees=True))\n",
    "print(r.as_quat())\n",
    "quat = transform_degree_to_quat(r.as_euler('xyz', degrees=True), [1, 1, 1])\n",
    "print(quat)\n",
    "degree = transform_quat_to_degree(quat)\n",
    "print(degree)"
   ]
  },
  {
   "cell_type": "code",
   "execution_count": 35,
   "metadata": {},
   "outputs": [
    {
     "name": "stdout",
     "output_type": "stream",
     "text": [
      "[ 0.  0. 90.]\n",
      "[[ 2.22044605e-16 -1.00000000e+00  0.00000000e+00]\n",
      " [ 1.00000000e+00  2.22044605e-16  0.00000000e+00]\n",
      " [ 0.00000000e+00  0.00000000e+00  1.00000000e+00]]\n"
     ]
    }
   ],
   "source": [
    "r = r1.from_euler('z', 90, degrees=True)\n",
    "print(r.as_euler('xyz', degrees=True))\n",
    "print(r.as_matrix())"
   ]
  }
 ],
 "metadata": {
  "kernelspec": {
   "display_name": "roam",
   "language": "python",
   "name": "python3"
  },
  "language_info": {
   "codemirror_mode": {
    "name": "ipython",
    "version": 3
   },
   "file_extension": ".py",
   "mimetype": "text/x-python",
   "name": "python",
   "nbconvert_exporter": "python",
   "pygments_lexer": "ipython3",
   "version": "3.10.0"
  }
 },
 "nbformat": 4,
 "nbformat_minor": 2
}
